{
 "cells": [
  {
   "cell_type": "markdown",
   "metadata": {},
   "source": [
    "## The Battle of Neighborhoods: CLE Edition"
   ]
  },
  {
   "cell_type": "markdown",
   "metadata": {},
   "source": [
    "PROMPT: Clearly define a problem or an idea of your choice, where you would need to leverage the Foursquare location data to solve or execute. Remember that data science problems always target an audience and are meant to help a group of stakeholders solve a problem, so make sure that you explicitly describe your audience and why they would care about your problem."
   ]
  },
  {
   "cell_type": "markdown",
   "metadata": {},
   "source": [
    "#### We'll start in the city of Cleveland, OH. A town rich with history that went through some hard times leading up to the turn of the century. Since 2009, the city has been rejuvenated with an ample amount of new contruction projects bringing new and exciting venues to old buildings once barren.\n",
    "\n",
    "#### In this notebook we will work through an individual looking to open a new restaurant within the city and it's surrounding suberbs. This individual will be looking to open a new 'Italian' restaurant in the best neighborhood to ensure a successful business. \n",
    "\n",
    "#### We will use the Foursquare API to pull location data on all existing restaurant chains in the area and group them by type in order to perform a count on the number of options. From there we will plot the existing locations into neighborhoods where they are located to detect the best neighborhood choice for this new restaurant. The optimal choice will be a neighborhood that currently has under <\\25% of it's current restaurants within the 'Italian' category."
   ]
  },
  {
   "cell_type": "markdown",
   "metadata": {},
   "source": [
    "PROMPT: Describe the data that you will be using to solve the problem or execute your idea. Remember that you will need to use the Foursquare location data to solve the problem or execute your idea. You can absolutely use other datasets in combination with the Foursquare location data. So make sure that you provide adequate explanation and discussion, with examples, of the data that you will be using, even if it is only Foursquare location data."
   ]
  },
  {
   "cell_type": "markdown",
   "metadata": {},
   "source": [
    "#### In this notebook we will be using Foursquare location data to pull existing restaurant locations within the city of Cleveland, OH and surrounding suburbs. From there we will create a datafram of the items and group them by type and neighborhood to create a visual map layout of the locations. Lastly, we will select the neighborhood that has a current rate of under <\\25% of their restaurants classified as 'Italian' category and this will be our recommended neighborhood to open the new restaurant."
   ]
  },
  {
   "cell_type": "code",
   "execution_count": null,
   "metadata": {
    "collapsed": true
   },
   "outputs": [],
   "source": []
  }
 ],
 "metadata": {
  "kernelspec": {
   "display_name": "Python 3",
   "language": "python",
   "name": "python3"
  },
  "language_info": {
   "codemirror_mode": {
    "name": "ipython",
    "version": 3
   },
   "file_extension": ".py",
   "mimetype": "text/x-python",
   "name": "python",
   "nbconvert_exporter": "python",
   "pygments_lexer": "ipython3",
   "version": "3.6.2"
  }
 },
 "nbformat": 4,
 "nbformat_minor": 2
}
